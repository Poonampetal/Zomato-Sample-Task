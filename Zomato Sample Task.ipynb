{
 "cells": [
  {
   "cell_type": "code",
   "execution_count": null,
   "id": "7ed166c1-de8f-416d-ae02-bdb90c027c48",
   "metadata": {},
   "outputs": [],
   "source": [
    "import pandas as pd"
   ]
  },
  {
   "cell_type": "markdown",
   "id": "7dc84856-d7a8-4fec-a99a-dc65b765d06f",
   "metadata": {},
   "source": [
    "# a) Calculate: total_transactions, unique_users and total_transaction_amount for every date and hour combination"
   ]
  },
  {
   "cell_type": "code",
   "execution_count": null,
   "id": "5e290322-c330-44db-b041-272e3f614f16",
   "metadata": {},
   "outputs": [],
   "source": [
    "# Sample dataset loading (assuming CSV format)\n",
    "\n",
    "df = pd.read_csv(\"transactions.csv\", parse_dates=[\"date_timestamp\"])"
   ]
  },
  {
   "cell_type": "code",
   "execution_count": null,
   "id": "1b6a3fd9-2e47-40fa-977d-921945d42016",
   "metadata": {},
   "outputs": [],
   "source": [
    "# Extract date and hour\n",
    "\n",
    "df[\"date\"] = df[\"date_timestamp\"].dt.date\n",
    "df[\"hour\"] = df[\"date_timestamp\"].dt.hour"
   ]
  },
  {
   "cell_type": "code",
   "execution_count": null,
   "id": "1dc5fe64-2b0b-4c0e-94d1-c2a801b751eb",
   "metadata": {},
   "outputs": [],
   "source": [
    "# Group by date and hour\n",
    "grouped_df = df.groupby([\"date\", \"hour\"])\n",
    "\n",
    "summary = pd.DataFrame({\n",
    "    \"total_transactions\": grouped_df[\"transaction_id\"].count(),\n",
    "    \"unique_users\": grouped_df[\"user_id\"].nunique(),\n",
    "    \"total_transaction_amount\": grouped_df[\"transaction_amount\"].sum()\n",
    "}).reset_index()\n"
   ]
  },
  {
   "cell_type": "code",
   "execution_count": null,
   "id": "4415bdab-c970-474e-939a-3bbae82406c8",
   "metadata": {},
   "outputs": [],
   "source": [
    "# Display the result\n",
    "\n",
    "print(summary.head())"
   ]
  },
  {
   "cell_type": "markdown",
   "id": "7712b066-d887-4fc2-8115-31e19df853b8",
   "metadata": {},
   "source": [
    "# b) Calculate hour with highest transaction_amount for every date"
   ]
  },
  {
   "cell_type": "code",
   "execution_count": null,
   "id": "fd00bba3-0f7d-4099-85ff-90dec961768c",
   "metadata": {},
   "outputs": [],
   "source": [
    "# Grouping by date and hour to get the total transaction amount per hour\n",
    "\n",
    "grouped = df.groupby(['date', 'hour'])['transaction_amount'].sum().reset_index()\n"
   ]
  },
  {
   "cell_type": "code",
   "execution_count": null,
   "id": "63e74844-80f0-41a4-ac74-27cc89bdd7bd",
   "metadata": {},
   "outputs": [],
   "source": [
    "# Finding the hour with the highest transaction amount for each date\n",
    "\n",
    "max_hour_per_day = grouped.loc[grouped.groupby('date')['transaction_amount'].idxmax()]\n"
   ]
  },
  {
   "cell_type": "code",
   "execution_count": null,
   "id": "9a4380ab-02e2-421c-80df-1eb4cdafae07",
   "metadata": {},
   "outputs": [],
   "source": [
    "# Display the result\n",
    "\n",
    "print(max_hour_per_day)"
   ]
  }
 ],
 "metadata": {
  "kernelspec": {
   "display_name": "Python [conda env:base] *",
   "language": "python",
   "name": "conda-base-py"
  },
  "language_info": {
   "codemirror_mode": {
    "name": "ipython",
    "version": 3
   },
   "file_extension": ".py",
   "mimetype": "text/x-python",
   "name": "python",
   "nbconvert_exporter": "python",
   "pygments_lexer": "ipython3",
   "version": "3.12.7"
  }
 },
 "nbformat": 4,
 "nbformat_minor": 5
}
